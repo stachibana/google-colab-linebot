{
  "nbformat": 4,
  "nbformat_minor": 0,
  "metadata": {
    "colab": {
      "name": "Untitled29.ipynb",
      "provenance": [],
      "authorship_tag": "ABX9TyM1kqW/+tqWwP1FVtI2vXVu",
      "include_colab_link": true
    },
    "kernelspec": {
      "name": "python3",
      "display_name": "Python 3"
    },
    "language_info": {
      "name": "python"
    }
  },
  "cells": [
    {
      "cell_type": "markdown",
      "metadata": {
        "id": "view-in-github",
        "colab_type": "text"
      },
      "source": [
        "<a href=\"https://colab.research.google.com/github/stachibana/google-colab-linebot/blob/master/Untitled29.ipynb\" target=\"_parent\"><img src=\"https://colab.research.google.com/assets/colab-badge.svg\" alt=\"Open In Colab\"/></a>"
      ]
    },
    {
      "cell_type": "code",
      "metadata": {
        "colab": {
          "base_uri": "https://localhost:8080/"
        },
        "id": "qGhsvwRxiNcO",
        "outputId": "68fc42d2-8bac-4301-de94-0043715722f8"
      },
      "source": [
        "!ssh-keygen -q -t rsa -N '' -f ~/.ssh/id_rsa <<<y >/dev/null 2>&1\n",
        "!nohup ssh -R 80:localhost:8000 -o StrictHostKeyChecking=no localhost.run &> /dev/null &\n",
        "!sleep 5\n",
        "!echo 'Set below url to Webhook URL at LINE Developers Console.'\n",
        "!cat nohup.out | egrep -o 'https?://[^ ]+' | tail -1"
      ],
      "execution_count": 3,
      "outputs": [
        {
          "output_type": "stream",
          "name": "stdout",
          "text": [
            "Set below url to Webhook URL at LINE Developers Console.\n",
            "https://3a92396ddea4e5.localhost.run\n"
          ]
        }
      ]
    },
    {
      "cell_type": "code",
      "metadata": {
        "id": "io7aKWPIj1CJ"
      },
      "source": [
        "!pip install flask line-bot-sdk -q"
      ],
      "execution_count": 4,
      "outputs": []
    },
    {
      "cell_type": "code",
      "metadata": {
        "colab": {
          "base_uri": "https://localhost:8080/"
        },
        "id": "R7dM50IBoSaN",
        "outputId": "0a2ab6a2-3eb2-4f31-db68-524457808c71"
      },
      "source": [
        "from flask import Flask, request, abort\n",
        "\n",
        "from linebot import (\n",
        "    LineBotApi, WebhookHandler\n",
        ")\n",
        "from linebot.exceptions import (\n",
        "    InvalidSignatureError\n",
        ")\n",
        "from linebot.models import (\n",
        "    MessageEvent, TextMessage, TextSendMessage,\n",
        ")\n",
        "\n",
        "app = Flask(__name__)\n",
        "\n",
        "line_bot_api = LineBotApi('1IGNE/pWqoeJGYTJKsUZeIiBLJkCU1XuMjFJn7/FSF3Ox1vKZMTaoyly7UIN1Jzqo+f9hkpLYts/bkdb1rM2EkX63wl0YeFM/r4SIzHL/DCu5AE7Mz0juzofB+3v+MqTgiO3HVqZbp3GCFNQkbbc7gdB04t89/1O/w1cDnyilFU=')\n",
        "handler = WebhookHandler('6f1ba0b458df01390c8648e9a53fdcfc')\n",
        "\n",
        "\n",
        "@app.route(\"/callback\", methods=['POST'])\n",
        "def callback():\n",
        "    # get X-Line-Signature header value\n",
        "    signature = request.headers['X-Line-Signature']\n",
        "\n",
        "    # get request body as text\n",
        "    body = request.get_data(as_text=True)\n",
        "    app.logger.info(\"Request body: \" + body)\n",
        "\n",
        "    # handle webhook body\n",
        "    try:\n",
        "        handler.handle(body, signature)\n",
        "    except InvalidSignatureError:\n",
        "        print(\"Invalid signature. Please check your channel access token/channel secret.\")\n",
        "        abort(400)\n",
        "\n",
        "    return 'OK'\n",
        "\n",
        "\n",
        "@handler.add(MessageEvent, message=TextMessage)\n",
        "def handle_message(event):\n",
        "    line_bot_api.reply_message(\n",
        "        event.reply_token,\n",
        "        TextSendMessage(text=event.message.text))\n",
        "\n",
        "\n",
        "if __name__ == \"__main__\":\n",
        "    app.run(port=8000)"
      ],
      "execution_count": null,
      "outputs": [
        {
          "output_type": "stream",
          "name": "stdout",
          "text": [
            " * Serving Flask app \"__main__\" (lazy loading)\n",
            " * Environment: production\n",
            "\u001b[31m   WARNING: This is a development server. Do not use it in a production deployment.\u001b[0m\n",
            "\u001b[2m   Use a production WSGI server instead.\u001b[0m\n",
            " * Debug mode: off\n"
          ]
        },
        {
          "output_type": "stream",
          "name": "stderr",
          "text": [
            " * Running on http://127.0.0.1:8000/ (Press CTRL+C to quit)\n",
            "127.0.0.1 - - [01/Dec/2021 01:43:14] \"\u001b[37mPOST //callback HTTP/1.1\u001b[0m\" 200 -\n"
          ]
        }
      ]
    }
  ]
}