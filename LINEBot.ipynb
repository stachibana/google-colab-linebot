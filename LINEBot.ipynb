{
  "nbformat": 4,
  "nbformat_minor": 0,
  "metadata": {
    "colab": {
      "name": "LINEBot.ipynb",
      "provenance": [],
      "authorship_tag": "ABX9TyPf6RwV8irwRA/djRSjXl9a",
      "include_colab_link": true
    },
    "kernelspec": {
      "name": "python3",
      "display_name": "Python 3"
    },
    "language_info": {
      "name": "python"
    }
  },
  "cells": [
    {
      "cell_type": "markdown",
      "metadata": {
        "id": "view-in-github",
        "colab_type": "text"
      },
      "source": [
        "<a href=\"https://colab.research.google.com/github/stachibana/google-colab-linebot/blob/master/LINEBot.ipynb\" target=\"_parent\"><img src=\"https://colab.research.google.com/assets/colab-badge.svg\" alt=\"Open In Colab\"/></a>"
      ]
    },
    {
      "cell_type": "markdown",
      "metadata": {
        "id": "jtWVFDeerTMI"
      },
      "source": [
        "# このノートブックをインターネットに公開"
      ]
    },
    {
      "cell_type": "code",
      "metadata": {
        "id": "qGhsvwRxiNcO"
      },
      "source": [
        "!ssh-keygen -q -t rsa -N '' -f ~/.ssh/id_rsa <<<y >/dev/null 2>&1\n",
        "!nohup ssh -R 80:localhost:8000 -o StrictHostKeyChecking=no localhost.run &> /dev/null &\n",
        "!sleep 5\n",
        "!echo 'あなたのWebhook URLはこちらです。'\n",
        "!cat nohup.out | egrep -o 'https?://[^ ]+' | tail -1"
      ],
      "execution_count": null,
      "outputs": []
    },
    {
      "cell_type": "markdown",
      "metadata": {
        "id": "qfCIR0nTreXe"
      },
      "source": [
        "# LINE Botの準備\n",
        "\n",
        "[LINE Developers コンソール](https://developers.line.biz/ja/)からMessaging APIの新規チャネルを作成し、Webhook URLに上記URLを入力してください。\n",
        "\n",
        "詳しくは、\n",
        "* [LINE Developersコンソールでチャネルを作成する](https://developers.line.biz/ja/docs/messaging-api/getting-started/#using-console)\n",
        "* [ボットを作成する](https://developers.line.biz/ja/docs/messaging-api/building-bot/)\n",
        "\n",
        "を参照してください。\n",
        "\n",
        "Webhook URLには前セクションで作成された https://XXXXXXXXXXXXXXX.localhost.run/ の部分を入力してください。"
      ]
    },
    {
      "cell_type": "markdown",
      "metadata": {
        "id": "tVrvnVsttqru"
      },
      "source": [
        "# Channel Secret、Channel Access Tokenの設定\n",
        "\n",
        "以下のChannel Secret、Channel Access TokenをLINE Developers コンソールから取得したものに置き換えてください。\n"
      ]
    },
    {
      "cell_type": "code",
      "metadata": {
        "id": "Er7Cn7wfuInR"
      },
      "source": [
        "CHANNEL_SECRET = \"YOUR_CHANNEL_SECRET\"\n",
        "CHANNEL_ACCESS_TOKEN = \"YOUR_CHANNEL_ACCESS_TOKEN\""
      ],
      "execution_count": 3,
      "outputs": []
    },
    {
      "cell_type": "markdown",
      "metadata": {
        "id": "WBZQdiPpxDx7"
      },
      "source": [
        "# パッケージのインストール"
      ]
    },
    {
      "cell_type": "code",
      "metadata": {
        "id": "io7aKWPIj1CJ"
      },
      "source": [
        "!pip install flask line-bot-sdk -q"
      ],
      "execution_count": 4,
      "outputs": []
    },
    {
      "cell_type": "markdown",
      "metadata": {
        "id": "EMStCcEJxJh1"
      },
      "source": [
        "# サービスを起動"
      ]
    },
    {
      "cell_type": "code",
      "metadata": {
        "id": "R7dM50IBoSaN"
      },
      "source": [
        "from flask import Flask, request, abort\n",
        "\n",
        "from linebot import (\n",
        "    LineBotApi, WebhookHandler\n",
        ")\n",
        "from linebot.exceptions import (\n",
        "    InvalidSignatureError\n",
        ")\n",
        "from linebot.models import (\n",
        "    MessageEvent, TextMessage, TextSendMessage,\n",
        ")\n",
        "\n",
        "app = Flask(__name__)\n",
        "\n",
        "line_bot_api = LineBotApi(CHANNEL_ACCESS_TOKEN)\n",
        "handler = WebhookHandler(CHANNEL_SECRET)\n",
        "\n",
        "@app.route(\"/\", methods=['POST'])\n",
        "def callback():\n",
        "    # get X-Line-Signature header value\n",
        "    signature = request.headers['X-Line-Signature']\n",
        "\n",
        "    # get request body as text\n",
        "    body = request.get_data(as_text=True)\n",
        "    app.logger.info(\"Request body: \" + body)\n",
        "\n",
        "    # handle webhook body\n",
        "    try:\n",
        "        handler.handle(body, signature)\n",
        "    except InvalidSignatureError:\n",
        "        print(\"Invalid signature. Please check your channel access token/channel secret.\")\n",
        "        abort(400)\n",
        "\n",
        "    return 'OK'\n",
        "\n",
        "\n",
        "@handler.add(MessageEvent, message=TextMessage)\n",
        "def handle_message(event):\n",
        "    line_bot_api.reply_message(\n",
        "        event.reply_token,\n",
        "        TextSendMessage(text=event.message.text))\n",
        "\n",
        "\n",
        "if __name__ == \"__main__\":\n",
        "    app.run(port=8000)"
      ],
      "execution_count": null,
      "outputs": []
    },
    {
      "cell_type": "markdown",
      "metadata": {
        "id": "apHRBcdFxORh"
      },
      "source": [
        "# コードの編集\n",
        "\n",
        "コードを編集したいときは実行中のサービスを停止して編集、再度実行してください。トンネルの再実行やWebhookの書き換えは必要ありません。\n",
        "\n",
        "なお、このノートブックのランタイムは非操作状態で90分、最大12時間後に破棄されます。その際は開き直し、Webhookの書き換えが必要になります。"
      ]
    }
  ]
}